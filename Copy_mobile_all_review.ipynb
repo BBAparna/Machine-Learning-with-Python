{
 "cells": [
  {
   "cell_type": "code",
   "execution_count": 1,
   "metadata": {},
   "outputs": [],
   "source": [
    "import requests\n",
    "from bs4 import BeautifulSoup\n",
    "import pandas as pd\n",
    "import numpy as np"
   ]
  },
  {
   "cell_type": "markdown",
   "metadata": {},
   "source": [
    "## Making list of all review URLs"
   ]
  },
  {
   "cell_type": "code",
   "execution_count": 2,
   "metadata": {},
   "outputs": [
    {
     "name": "stdout",
     "output_type": "stream",
     "text": [
      "['https://www.gsmarena.com/apple_iphone_xs-reviews-9318p1.php', 'https://www.gsmarena.com/apple_iphone_xs-reviews-9318p2.php', 'https://www.gsmarena.com/apple_iphone_xs-reviews-9318p3.php', 'https://www.gsmarena.com/apple_iphone_xs-reviews-9318p4.php', 'https://www.gsmarena.com/apple_iphone_xs-reviews-9318p5.php', 'https://www.gsmarena.com/apple_iphone_xs-reviews-9318p6.php', 'https://www.gsmarena.com/apple_iphone_xs-reviews-9318p7.php', 'https://www.gsmarena.com/apple_iphone_xs-reviews-9318p8.php', 'https://www.gsmarena.com/apple_iphone_xs-reviews-9318p9.php', 'https://www.gsmarena.com/apple_iphone_xs-reviews-9318p10.php', 'https://www.gsmarena.com/apple_iphone_xs-reviews-9318p11.php', 'https://www.gsmarena.com/apple_iphone_xs-reviews-9318p12.php', 'https://www.gsmarena.com/apple_iphone_xs-reviews-9318p13.php', 'https://www.gsmarena.com/apple_iphone_xs-reviews-9318p14.php', 'https://www.gsmarena.com/apple_iphone_xs-reviews-9318p15.php', 'https://www.gsmarena.com/apple_iphone_xs-reviews-9318p16.php', 'https://www.gsmarena.com/apple_iphone_xs-reviews-9318p17.php', 'https://www.gsmarena.com/apple_iphone_xs-reviews-9318p18.php', 'https://www.gsmarena.com/apple_iphone_xs-reviews-9318p19.php']\n"
     ]
    }
   ],
   "source": [
    "base = \"https://www.gsmarena.com/apple_iphone_xs-reviews-9318p\"\n",
    "end = \".php\"\n",
    "url_list = []\n",
    "for i in range(1,20):\n",
    "    url_list.append(base+str(i)+end)\n",
    "    \n",
    "print(url_list)"
   ]
  },
  {
   "cell_type": "markdown",
   "metadata": {},
   "source": [
    "## Function to flatten nested list"
   ]
  },
  {
   "cell_type": "code",
   "execution_count": 3,
   "metadata": {},
   "outputs": [],
   "source": [
    "flatten = lambda l: [item for sublist in l for item in sublist]"
   ]
  },
  {
   "cell_type": "markdown",
   "metadata": {},
   "source": [
    "## Applying operations to each URL"
   ]
  },
  {
   "cell_type": "code",
   "execution_count": 42,
   "metadata": {},
   "outputs": [
    {
     "name": "stdout",
     "output_type": "stream",
     "text": [
      "https://www.gsmarena.com/apple_iphone_xs-reviews-9318p1.php\n",
      "https://www.gsmarena.com/apple_iphone_xs-reviews-9318p2.php\n",
      "https://www.gsmarena.com/apple_iphone_xs-reviews-9318p3.php\n",
      "https://www.gsmarena.com/apple_iphone_xs-reviews-9318p4.php\n",
      "https://www.gsmarena.com/apple_iphone_xs-reviews-9318p5.php\n",
      "https://www.gsmarena.com/apple_iphone_xs-reviews-9318p6.php\n",
      "https://www.gsmarena.com/apple_iphone_xs-reviews-9318p7.php\n",
      "https://www.gsmarena.com/apple_iphone_xs-reviews-9318p8.php\n",
      "https://www.gsmarena.com/apple_iphone_xs-reviews-9318p9.php\n",
      "https://www.gsmarena.com/apple_iphone_xs-reviews-9318p10.php\n",
      "https://www.gsmarena.com/apple_iphone_xs-reviews-9318p11.php\n",
      "https://www.gsmarena.com/apple_iphone_xs-reviews-9318p12.php\n",
      "https://www.gsmarena.com/apple_iphone_xs-reviews-9318p13.php\n",
      "https://www.gsmarena.com/apple_iphone_xs-reviews-9318p14.php\n",
      "https://www.gsmarena.com/apple_iphone_xs-reviews-9318p15.php\n",
      "https://www.gsmarena.com/apple_iphone_xs-reviews-9318p16.php\n",
      "https://www.gsmarena.com/apple_iphone_xs-reviews-9318p17.php\n",
      "https://www.gsmarena.com/apple_iphone_xs-reviews-9318p18.php\n",
      "https://www.gsmarena.com/apple_iphone_xs-reviews-9318p19.php\n"
     ]
    }
   ],
   "source": [
    "all_review = [] ## List to store all the reviews\n",
    "\n",
    "for url in url_list:\n",
    "    print(url)\n",
    "    page=requests.get(url)  ## Retrieve HTML page\n",
    "    soup = BeautifulSoup(page.content,'html.parser')  ## Parse it by beautiful soup\n",
    "    review = soup.find_all('p', class_='uopin')\n",
    "    documents = [x.text.strip().split(\".\") for x in review] ## List of review on that page\n",
    "    all_review.extend(documents)"
   ]
  },
  {
   "cell_type": "code",
   "execution_count": 51,
   "metadata": {},
   "outputs": [
    {
     "data": {
      "text/plain": [
       "[['Except a thing or two, there is absolutely NO difference between this and iphone X',\n",
       "  '  \\r\\nHave they given wrong specs or what?'],\n",
       " ['Anonymous, 12 Sep 2018From IP67 to IP68 ',\n",
       "  '',\n",
       "  ' what a big difference XDwatch this space'],\n",
       " ['Chris-the-Apple-boy, 12 Sep 2018This is the initial version of the page, expect updates within 2 hoursOk'],\n",
       " ['Which model gets dual physical sim??? XS or XS Max???'],\n",
       " ['Galaxy S6 under iPhone skin',\n",
       "  '',\n",
       "  '',\n",
       "  ' \\r\\nSame specs, same functions, nothing new',\n",
       "  '',\n",
       "  '',\n",
       "  '\\n \\r\\nOh yeah, monster Apple homebrew cpu :D'],\n",
       " ['its literally took Apple more than 4 years to put dual SIM, but another 10 years for Micro SD hahahah'],\n",
       " ['One thing is for certain',\n",
       "  '',\n",
       "  '',\n",
       "  \" there's ZERO reason for iPhone X users to upgrade to Xs\",\n",
       "  ' This phone is literally the same thing with upgraded SoC & RAM only!'],\n",
       " ['Nothing too exciting!'],\n",
       " ['From IP67 to IP68 ', '', ' what a big difference XD'],\n",
       " [\"I'm early to this!!!\"],\n",
       " ['ddavid, 12 Sep 20182716mah ? got different ? iphone X have the same spec also',\n",
       "  '',\n",
       "  '',\n",
       "  '',\n",
       "  ' sadThis is the initial version of the page, expect updates within 2 hours'],\n",
       " ['ddavid, 12 Sep 20182716mah ? got different ? iphone X have the same spec also',\n",
       "  '',\n",
       "  '',\n",
       "  '',\n",
       "  ' sadThose specs are not official, it will be presented this evening',\n",
       "  ' It will probably take a few days until ifixit tears it down and reveals the official battery size'],\n",
       " ['Anonymous, 12 Sep 2018welcome to 20172716mah ? got different ? iphone X have the same spec also',\n",
       "  '',\n",
       "  '',\n",
       "  '',\n",
       "  ' sad'],\n",
       " ['welcome to 2017'],\n",
       " ['Little &#128267; for big screen',\n",
       "  '',\n",
       "  '',\n",
       "  ' We need some change and then rename iphone x ',\n",
       "  '',\n",
       "  '',\n",
       "  ' It is iphone x only with a better graphic and cpu',\n",
       "  '',\n",
       "  '',\n",
       "  ' Are you kidding? we need some change ecpecially more capacitive &#128267;']]"
      ]
     },
     "execution_count": 51,
     "metadata": {},
     "output_type": "execute_result"
    }
   ],
   "source": [
    "[x.text.strip().split(\".\") for x in review]"
   ]
  },
  {
   "cell_type": "code",
   "execution_count": 52,
   "metadata": {},
   "outputs": [],
   "source": [
    "all_reviews_flat = flatten(all_review)\n",
    "\n",
    "all_reviews_flat = [x for x in all_reviews_flat if len(x)>20]"
   ]
  },
  {
   "cell_type": "code",
   "execution_count": 53,
   "metadata": {},
   "outputs": [
    {
     "data": {
      "text/plain": [
       "1199"
      ]
     },
     "execution_count": 53,
     "metadata": {},
     "output_type": "execute_result"
    }
   ],
   "source": [
    "len(all_reviews_flat)"
   ]
  },
  {
   "cell_type": "code",
   "execution_count": 55,
   "metadata": {},
   "outputs": [
    {
     "data": {
      "text/plain": [
       "['Fer, 24 Apr 2019This evaluation aims to examine how the iPhone XS is believed to be the best iPhone so far',\n",
       " ' moreThen came along S10',\n",
       " 'Fer, 24 Apr 2019This evaluation aims to examine how the iPhone XS is believed to be the best iPhone so far',\n",
       " ' moreThe iPhone XS is the worst of the new iPhones \\r\\nThe XR is more fair valued with a great camera \\r\\nThe XS is literraly the same as the X ($760) \\r\\nAnd the XS MAX has a big screen better battery better camera \\r\\nTHE XS IS THE WORST!!!!!!!!!1',\n",
       " 'This evaluation aims to examine how the iPhone XS is believed to be the best iPhone so far',\n",
       " ' I have stated some evidence of the success of the iPhone XS and its sales',\n",
       " ' \\n \\r\\nPeople around the world snapped up the iPhone XS models more quickly than they did the iPhone 8 series last year',\n",
       " '46 million iPhone XS models in the first week',\n",
       " ' Â“The report claims that the new iPhones have generated 7% more revenue during its first week sales, compared to the combined sales of last yearÂ’s iPhones during its first week',\n",
       " 'Â” Tyler Lee on 10/05/2018']"
      ]
     },
     "execution_count": 55,
     "metadata": {},
     "output_type": "execute_result"
    }
   ],
   "source": [
    "all_reviews_flat[:10]"
   ]
  },
  {
   "cell_type": "code",
   "execution_count": 60,
   "metadata": {},
   "outputs": [],
   "source": [
    "#copy_allpage_mobile_review = pd.DataFrame({\"Reviews\":all_reviews_flat})\n",
    "#copy_allpage_mobile_review.to_csv(\"copy_allpage_mobile_review.csv\",index=False)"
   ]
  },
  {
   "cell_type": "code",
   "execution_count": 61,
   "metadata": {},
   "outputs": [
    {
     "data": {
      "text/html": [
       "<div>\n",
       "<style scoped>\n",
       "    .dataframe tbody tr th:only-of-type {\n",
       "        vertical-align: middle;\n",
       "    }\n",
       "\n",
       "    .dataframe tbody tr th {\n",
       "        vertical-align: top;\n",
       "    }\n",
       "\n",
       "    .dataframe thead th {\n",
       "        text-align: right;\n",
       "    }\n",
       "</style>\n",
       "<table border=\"1\" class=\"dataframe\">\n",
       "  <thead>\n",
       "    <tr style=\"text-align: right;\">\n",
       "      <th></th>\n",
       "      <th>Reviews</th>\n",
       "    </tr>\n",
       "  </thead>\n",
       "  <tbody>\n",
       "    <tr>\n",
       "      <th>0</th>\n",
       "      <td>Fer, 24 Apr 2019This evaluation aims to examine how the iPhone XS is believed to be the best iPhone so far</td>\n",
       "    </tr>\n",
       "    <tr>\n",
       "      <th>1</th>\n",
       "      <td>moreThen came along S10</td>\n",
       "    </tr>\n",
       "    <tr>\n",
       "      <th>2</th>\n",
       "      <td>Fer, 24 Apr 2019This evaluation aims to examine how the iPhone XS is believed to be the best iPhone so far</td>\n",
       "    </tr>\n",
       "    <tr>\n",
       "      <th>3</th>\n",
       "      <td>moreThe iPhone XS is the worst of the new iPhones \\r\\nThe XR is more fair valued with a great camera \\r\\nThe XS is literraly the same as the X ($760) \\r\\nAnd the XS MAX has a big screen better battery better camera \\r\\nTHE XS IS THE WORST!!!!!!!!!1</td>\n",
       "    </tr>\n",
       "    <tr>\n",
       "      <th>4</th>\n",
       "      <td>This evaluation aims to examine how the iPhone XS is believed to be the best iPhone so far</td>\n",
       "    </tr>\n",
       "  </tbody>\n",
       "</table>\n",
       "</div>"
      ],
      "text/plain": [
       "                                                                                                                                                                                                                                                     Reviews\n",
       "0  Fer, 24 Apr 2019This evaluation aims to examine how the iPhone XS is believed to be the best iPhone so far                                                                                                                                               \n",
       "1   moreThen came along S10                                                                                                                                                                                                                                 \n",
       "2  Fer, 24 Apr 2019This evaluation aims to examine how the iPhone XS is believed to be the best iPhone so far                                                                                                                                               \n",
       "3   moreThe iPhone XS is the worst of the new iPhones \\r\\nThe XR is more fair valued with a great camera \\r\\nThe XS is literraly the same as the X ($760) \\r\\nAnd the XS MAX has a big screen better battery better camera \\r\\nTHE XS IS THE WORST!!!!!!!!!1\n",
       "4  This evaluation aims to examine how the iPhone XS is believed to be the best iPhone so far                                                                                                                                                               "
      ]
     },
     "execution_count": 61,
     "metadata": {},
     "output_type": "execute_result"
    }
   ],
   "source": [
    "#pd.set_option('display.max_colWidth',-1)\n",
    "#copy_allpage_mobile_review.head()"
   ]
  },
  {
   "cell_type": "code",
   "execution_count": 62,
   "metadata": {},
   "outputs": [
    {
     "data": {
      "text/plain": [
       "1199"
      ]
     },
     "execution_count": 62,
     "metadata": {},
     "output_type": "execute_result"
    }
   ],
   "source": [
    "len(copy_allpage_mobile_review)"
   ]
  },
  {
   "cell_type": "code",
   "execution_count": 209,
   "metadata": {},
   "outputs": [],
   "source": [
    "mobrev = pd.read_excel('newcopy_mobile_review.xlsx')"
   ]
  },
  {
   "cell_type": "code",
   "execution_count": 210,
   "metadata": {},
   "outputs": [
    {
     "data": {
      "text/plain": [
       "1254"
      ]
     },
     "execution_count": 210,
     "metadata": {},
     "output_type": "execute_result"
    }
   ],
   "source": [
    "len(mobrev)"
   ]
  },
  {
   "cell_type": "code",
   "execution_count": 211,
   "metadata": {},
   "outputs": [
    {
     "data": {
      "text/plain": [
       "(1254, 2)"
      ]
     },
     "execution_count": 211,
     "metadata": {},
     "output_type": "execute_result"
    }
   ],
   "source": [
    "mobrev.shape"
   ]
  },
  {
   "cell_type": "code",
   "execution_count": 212,
   "metadata": {},
   "outputs": [
    {
     "data": {
      "text/html": [
       "<div>\n",
       "<style scoped>\n",
       "    .dataframe tbody tr th:only-of-type {\n",
       "        vertical-align: middle;\n",
       "    }\n",
       "\n",
       "    .dataframe tbody tr th {\n",
       "        vertical-align: top;\n",
       "    }\n",
       "\n",
       "    .dataframe thead th {\n",
       "        text-align: right;\n",
       "    }\n",
       "</style>\n",
       "<table border=\"1\" class=\"dataframe\">\n",
       "  <thead>\n",
       "    <tr style=\"text-align: right;\">\n",
       "      <th></th>\n",
       "      <th>sentiment</th>\n",
       "      <th>Reviews</th>\n",
       "    </tr>\n",
       "  </thead>\n",
       "  <tbody>\n",
       "    <tr>\n",
       "      <th>1249</th>\n",
       "      <td>POS</td>\n",
       "      <td>Apple is 3 years behind Samsung and Huawei</td>\n",
       "    </tr>\n",
       "    <tr>\n",
       "      <th>1250</th>\n",
       "      <td>NEG</td>\n",
       "      <td>IMO,why apple a bit fail in china: \\r\\r\\nskyhigh price, big side bezel and big notch, no FM radio and headphone jack, small battery for the size, heavy weight for the size</td>\n",
       "    </tr>\n",
       "    <tr>\n",
       "      <th>1251</th>\n",
       "      <td>NEG</td>\n",
       "      <td>Shaun, 22 Mar 2019How about you don't?\\r\\r\\nI've moved from iOS to Android, got the S10e now, no regrets</td>\n",
       "    </tr>\n",
       "    <tr>\n",
       "      <th>1252</th>\n",
       "      <td>NEG</td>\n",
       "      <td>moreCommon! How did you say Iphones SE, 7, 8 were rubbish?</td>\n",
       "    </tr>\n",
       "    <tr>\n",
       "      <th>1253</th>\n",
       "      <td>NEG</td>\n",
       "      <td>I wish camscanner and many apps running better on S10, i dont think twice, but so many apps that i use, running better on ios, and it will not change may be until in the next 10 years</td>\n",
       "    </tr>\n",
       "  </tbody>\n",
       "</table>\n",
       "</div>"
      ],
      "text/plain": [
       "     sentiment  \\\n",
       "1249  POS        \n",
       "1250  NEG        \n",
       "1251  NEG        \n",
       "1252  NEG        \n",
       "1253  NEG        \n",
       "\n",
       "                                                                                                                                                                                      Reviews  \n",
       "1249    Apple is 3 years behind Samsung and Huawei                                                                                                                                             \n",
       "1250  IMO,why apple a bit fail in china: \\r\\r\\nskyhigh price, big side bezel and big notch, no FM radio and headphone jack, small battery for the size, heavy weight for the size              \n",
       "1251  Shaun, 22 Mar 2019How about you don't?\\r\\r\\nI've moved from iOS to Android, got the S10e now, no regrets                                                                                 \n",
       "1252   moreCommon! How did you say Iphones SE, 7, 8 were rubbish?                                                                                                                              \n",
       "1253  I wish camscanner and many apps running better on S10, i dont think twice, but so many apps that i use, running better on ios, and it will not change may be until in the next 10 years  "
      ]
     },
     "execution_count": 212,
     "metadata": {},
     "output_type": "execute_result"
    }
   ],
   "source": [
    "mobrev.tail()"
   ]
  },
  {
   "cell_type": "code",
   "execution_count": 213,
   "metadata": {},
   "outputs": [
    {
     "data": {
      "text/plain": [
       "0"
      ]
     },
     "execution_count": 213,
     "metadata": {},
     "output_type": "execute_result"
    }
   ],
   "source": [
    "sum(mobrev['sentiment'] == \" \")"
   ]
  },
  {
   "cell_type": "code",
   "execution_count": null,
   "metadata": {},
   "outputs": [],
   "source": []
  },
  {
   "cell_type": "code",
   "execution_count": 214,
   "metadata": {},
   "outputs": [],
   "source": [
    "mobrev['sentiment'] = mobrev['sentiment'].astype('str')"
   ]
  },
  {
   "cell_type": "code",
   "execution_count": 215,
   "metadata": {},
   "outputs": [],
   "source": [
    "from sklearn.model_selection import train_test_split\n",
    "\n",
    "y = mobrev['sentiment']\n",
    "X = mobrev.loc[:,'Reviews']\n",
    "\n",
    "X_train, X_test, y_train, y_test = train_test_split(X, y, test_size=0.2, random_state=0)"
   ]
  },
  {
   "cell_type": "code",
   "execution_count": 216,
   "metadata": {},
   "outputs": [
    {
     "name": "stdout",
     "output_type": "stream",
     "text": [
      "Lenght of Train 1003\n",
      "Length of Test 251\n"
     ]
    }
   ],
   "source": [
    "print(\"Lenght of Train\" ,len(X_train))\n",
    "print(\"Length of Test\"  ,len(X_test))"
   ]
  },
  {
   "cell_type": "code",
   "execution_count": 217,
   "metadata": {},
   "outputs": [
    {
     "name": "stdout",
     "output_type": "stream",
     "text": [
      "(1003,)\n",
      "(251,)\n",
      "(1003,)\n",
      "(251,)\n"
     ]
    }
   ],
   "source": [
    "print(X_train.shape)\n",
    "print(X_test.shape)\n",
    "print(y_train.shape)\n",
    "print(y_test.shape)"
   ]
  },
  {
   "cell_type": "code",
   "execution_count": 218,
   "metadata": {},
   "outputs": [
    {
     "name": "stdout",
     "output_type": "stream",
     "text": [
      "(1003, 289)\n",
      "(251, 289)\n"
     ]
    }
   ],
   "source": [
    "from sklearn.feature_extraction.text import TfidfVectorizer\n",
    "vectorizer = TfidfVectorizer(min_df=10,ngram_range=(1, 3))\n",
    "X_train_tf=vectorizer.fit_transform(X_train).toarray()\n",
    "X_test_tf=vectorizer.transform(X_test).toarray()\n",
    "print(X_train_tf.shape)\n",
    "print(X_test_tf.shape)"
   ]
  },
  {
   "cell_type": "code",
   "execution_count": 219,
   "metadata": {},
   "outputs": [],
   "source": [
    "# from sklearn.decomposition import TruncatedSVD\n",
    "# svd = TruncatedSVD(n_components=280, n_iter=10, random_state=42)\n",
    "# X_train_tf_svd = svd.fit_transform(X_train_tf)\n",
    "# print(svd.explained_variance_ratio_.sum())\n",
    "# X_test_tf_svd = svd.transform(X_test_tf)"
   ]
  },
  {
   "cell_type": "code",
   "execution_count": 220,
   "metadata": {},
   "outputs": [
    {
     "data": {
      "text/plain": [
       "0    POS \n",
       "1    INFO\n",
       "2    POS \n",
       "3    NEG \n",
       "4    POS \n",
       "Name: sentiment, dtype: object"
      ]
     },
     "execution_count": 220,
     "metadata": {},
     "output_type": "execute_result"
    }
   ],
   "source": [
    "y[:5]"
   ]
  },
  {
   "cell_type": "code",
   "execution_count": 221,
   "metadata": {},
   "outputs": [],
   "source": [
    "target = pd.DataFrame({\"Act\":y_train,\"Pred\":train_nb_preds})"
   ]
  },
  {
   "cell_type": "code",
   "execution_count": 222,
   "metadata": {},
   "outputs": [
    {
     "data": {
      "text/plain": [
       "(1003, 2)"
      ]
     },
     "execution_count": 222,
     "metadata": {},
     "output_type": "execute_result"
    }
   ],
   "source": [
    "target.shape"
   ]
  },
  {
   "cell_type": "code",
   "execution_count": 223,
   "metadata": {},
   "outputs": [],
   "source": [
    "target.reset_index(drop=True, inplace=True)\n",
    "# X_train_tf.reset_index(drop=True, inplace=True)"
   ]
  },
  {
   "cell_type": "code",
   "execution_count": 198,
   "metadata": {},
   "outputs": [],
   "source": [
    "temp = pd.concat([target,pd.DataFrame(X_train_tf)],ignore_index=True,axis=1)\n",
    "temp.to_csv(\"analyse.csv\")"
   ]
  },
  {
   "cell_type": "code",
   "execution_count": 224,
   "metadata": {},
   "outputs": [
    {
     "name": "stdout",
     "output_type": "stream",
     "text": [
      "Train Accuracy 0.4935194416749751\n",
      "[[191 256 212]\n",
      " [  0 138  25]\n",
      " [  0  15 166]]\n",
      "             precision    recall  f1-score   support\n",
      "\n",
      "       INFO       1.00      0.29      0.45       659\n",
      "        NEG       0.34      0.85      0.48       163\n",
      "        POS       0.41      0.92      0.57       181\n",
      "\n",
      "avg / total       0.79      0.49      0.48      1003\n",
      "\n"
     ]
    }
   ],
   "source": [
    "from sklearn.naive_bayes import GaussianNB\n",
    "from sklearn.metrics import confusion_matrix, classification_report\n",
    "\n",
    "NBclassifier = GaussianNB()\n",
    "NBclassifier.fit(X_train_tf, y_train)\n",
    "\n",
    "## Predictions\n",
    "train_nb_preds = NBclassifier.predict(X_train_tf)\n",
    "test_nb_preds = NBclassifier.predict(X_test_tf)\n",
    "\n",
    "print(\"Train Accuracy\",NBclassifier.score(X_train_tf,y_train))\n",
    "print(confusion_matrix(y_train,train_nb_preds))\n",
    "print(classification_report(y_train,train_nb_preds))\n",
    "\n",
    "#print(\"test Accuracy\",NBclassifier.score(X_test_tf,y_test))\n",
    "#print(confusion_matrix(y_test,test_nb_preds))\n",
    "#print(classification_report(y_test,test_nb_preds))\n"
   ]
  },
  {
   "cell_type": "code",
   "execution_count": null,
   "metadata": {},
   "outputs": [],
   "source": []
  },
  {
   "cell_type": "code",
   "execution_count": 112,
   "metadata": {},
   "outputs": [
    {
     "ename": "ValueError",
     "evalue": "Mix of label input types (string and number)",
     "output_type": "error",
     "traceback": [
      "\u001b[1;31m---------------------------------------------------------------------------\u001b[0m",
      "\u001b[1;31mValueError\u001b[0m                                Traceback (most recent call last)",
      "\u001b[1;32m<ipython-input-112-7621f47fb8d7>\u001b[0m in \u001b[0;36m<module>\u001b[1;34m()\u001b[0m\n\u001b[1;32m----> 1\u001b[1;33m \u001b[0mprint\u001b[0m\u001b[1;33m(\u001b[0m\u001b[0mclassification_report\u001b[0m\u001b[1;33m(\u001b[0m\u001b[0my_train\u001b[0m\u001b[1;33m,\u001b[0m\u001b[0mtrain_nb_preds\u001b[0m\u001b[1;33m)\u001b[0m\u001b[1;33m)\u001b[0m\u001b[1;33m\u001b[0m\u001b[0m\n\u001b[0m",
      "\u001b[1;32m~\\Anaconda3\\lib\\site-packages\\sklearn\\metrics\\classification.py\u001b[0m in \u001b[0;36mclassification_report\u001b[1;34m(y_true, y_pred, labels, target_names, sample_weight, digits)\u001b[0m\n\u001b[0;32m   1419\u001b[0m \u001b[1;33m\u001b[0m\u001b[0m\n\u001b[0;32m   1420\u001b[0m     \u001b[1;32mif\u001b[0m \u001b[0mlabels\u001b[0m \u001b[1;32mis\u001b[0m \u001b[1;32mNone\u001b[0m\u001b[1;33m:\u001b[0m\u001b[1;33m\u001b[0m\u001b[0m\n\u001b[1;32m-> 1421\u001b[1;33m         \u001b[0mlabels\u001b[0m \u001b[1;33m=\u001b[0m \u001b[0munique_labels\u001b[0m\u001b[1;33m(\u001b[0m\u001b[0my_true\u001b[0m\u001b[1;33m,\u001b[0m \u001b[0my_pred\u001b[0m\u001b[1;33m)\u001b[0m\u001b[1;33m\u001b[0m\u001b[0m\n\u001b[0m\u001b[0;32m   1422\u001b[0m     \u001b[1;32melse\u001b[0m\u001b[1;33m:\u001b[0m\u001b[1;33m\u001b[0m\u001b[0m\n\u001b[0;32m   1423\u001b[0m         \u001b[0mlabels\u001b[0m \u001b[1;33m=\u001b[0m \u001b[0mnp\u001b[0m\u001b[1;33m.\u001b[0m\u001b[0masarray\u001b[0m\u001b[1;33m(\u001b[0m\u001b[0mlabels\u001b[0m\u001b[1;33m)\u001b[0m\u001b[1;33m\u001b[0m\u001b[0m\n",
      "\u001b[1;32m~\\Anaconda3\\lib\\site-packages\\sklearn\\utils\\multiclass.py\u001b[0m in \u001b[0;36munique_labels\u001b[1;34m(*ys)\u001b[0m\n\u001b[0;32m    101\u001b[0m     \u001b[1;31m# Check that we don't mix string type with number type\u001b[0m\u001b[1;33m\u001b[0m\u001b[1;33m\u001b[0m\u001b[0m\n\u001b[0;32m    102\u001b[0m     \u001b[1;32mif\u001b[0m \u001b[1;33m(\u001b[0m\u001b[0mlen\u001b[0m\u001b[1;33m(\u001b[0m\u001b[0mset\u001b[0m\u001b[1;33m(\u001b[0m\u001b[0misinstance\u001b[0m\u001b[1;33m(\u001b[0m\u001b[0mlabel\u001b[0m\u001b[1;33m,\u001b[0m \u001b[0mstring_types\u001b[0m\u001b[1;33m)\u001b[0m \u001b[1;32mfor\u001b[0m \u001b[0mlabel\u001b[0m \u001b[1;32min\u001b[0m \u001b[0mys_labels\u001b[0m\u001b[1;33m)\u001b[0m\u001b[1;33m)\u001b[0m \u001b[1;33m>\u001b[0m \u001b[1;36m1\u001b[0m\u001b[1;33m)\u001b[0m\u001b[1;33m:\u001b[0m\u001b[1;33m\u001b[0m\u001b[0m\n\u001b[1;32m--> 103\u001b[1;33m         \u001b[1;32mraise\u001b[0m \u001b[0mValueError\u001b[0m\u001b[1;33m(\u001b[0m\u001b[1;34m\"Mix of label input types (string and number)\"\u001b[0m\u001b[1;33m)\u001b[0m\u001b[1;33m\u001b[0m\u001b[0m\n\u001b[0m\u001b[0;32m    104\u001b[0m \u001b[1;33m\u001b[0m\u001b[0m\n\u001b[0;32m    105\u001b[0m     \u001b[1;32mreturn\u001b[0m \u001b[0mnp\u001b[0m\u001b[1;33m.\u001b[0m\u001b[0marray\u001b[0m\u001b[1;33m(\u001b[0m\u001b[0msorted\u001b[0m\u001b[1;33m(\u001b[0m\u001b[0mys_labels\u001b[0m\u001b[1;33m)\u001b[0m\u001b[1;33m)\u001b[0m\u001b[1;33m\u001b[0m\u001b[0m\n",
      "\u001b[1;31mValueError\u001b[0m: Mix of label input types (string and number)"
     ]
    }
   ],
   "source": [
    "print(classification_report(y_train,train_nb_preds))\n"
   ]
  },
  {
   "cell_type": "code",
   "execution_count": 113,
   "metadata": {},
   "outputs": [
    {
     "name": "stdout",
     "output_type": "stream",
     "text": [
      "             precision    recall  f1-score   support\n",
      "\n",
      "       INFO       0.82      0.23      0.36       163\n",
      "        NEG       0.26      0.71      0.38        38\n",
      "        POS       0.30      0.62      0.41        50\n",
      "\n",
      "avg / total       0.63      0.38      0.37       251\n",
      "\n"
     ]
    }
   ],
   "source": [
    "# generate classification report\n",
    "from sklearn import metrics\n",
    "print(metrics.classification_report(y_test, test_nb_preds))"
   ]
  },
  {
   "cell_type": "code",
   "execution_count": 87,
   "metadata": {},
   "outputs": [
    {
     "name": "stdout",
     "output_type": "stream",
     "text": [
      "test Accuracy 0.3784860557768924\n"
     ]
    }
   ],
   "source": [
    "print(\"test Accuracy\",NBclassifier.score(X_test_tf,y_test))"
   ]
  },
  {
   "cell_type": "code",
   "execution_count": 89,
   "metadata": {},
   "outputs": [
    {
     "name": "stdout",
     "output_type": "stream",
     "text": [
      "[[37 64 62]\n",
      " [ 1 27 10]\n",
      " [ 7 12 31]]\n"
     ]
    }
   ],
   "source": [
    "print(confusion_matrix(y_test,test_nb_preds))"
   ]
  },
  {
   "cell_type": "code",
   "execution_count": 90,
   "metadata": {},
   "outputs": [
    {
     "name": "stdout",
     "output_type": "stream",
     "text": [
      "             precision    recall  f1-score   support\n",
      "\n",
      "       INFO       0.82      0.23      0.36       163\n",
      "        NEG       0.26      0.71      0.38        38\n",
      "        POS       0.30      0.62      0.41        50\n",
      "\n",
      "avg / total       0.63      0.38      0.37       251\n",
      "\n"
     ]
    }
   ],
   "source": [
    "print(classification_report(y_test,test_nb_preds))"
   ]
  },
  {
   "cell_type": "code",
   "execution_count": 225,
   "metadata": {},
   "outputs": [
    {
     "name": "stdout",
     "output_type": "stream",
     "text": [
      "Train Accuracy 0.732801595214357\n",
      "[[652   2   5]\n",
      " [140  20   3]\n",
      " [116   2  63]]\n"
     ]
    }
   ],
   "source": [
    "from sklearn.linear_model import LogisticRegression\n",
    "logit = LogisticRegression()\n",
    "logit.fit(X_train_tf,y_train)\n",
    "\n",
    "## Predictions\n",
    "train_logit_preds = logit.predict(X_train_tf)\n",
    "test_logit_preds = logit.predict(X_test_tf)\n",
    "\n",
    "print(\"Train Accuracy\",logit.score(X_train_tf,y_train))\n",
    "print(confusion_matrix(y_train,train_logit_preds))\n",
    "\n",
    "\n"
   ]
  },
  {
   "cell_type": "code",
   "execution_count": 226,
   "metadata": {},
   "outputs": [
    {
     "name": "stdout",
     "output_type": "stream",
     "text": [
      "             precision    recall  f1-score   support\n",
      "\n",
      "       INFO       0.72      0.99      0.83       659\n",
      "        NEG       0.83      0.12      0.21       163\n",
      "        POS       0.89      0.35      0.50       181\n",
      "\n",
      "avg / total       0.77      0.73      0.67      1003\n",
      "\n"
     ]
    }
   ],
   "source": [
    "print(classification_report(y_train,train_logit_preds))"
   ]
  },
  {
   "cell_type": "code",
   "execution_count": 96,
   "metadata": {},
   "outputs": [
    {
     "name": "stdout",
     "output_type": "stream",
     "text": [
      "test Accuracy 0.6932270916334662\n",
      "[[161   0   2]\n",
      " [ 32   4   2]\n",
      " [ 41   0   9]]\n",
      "             precision    recall  f1-score   support\n",
      "\n",
      "       INFO       0.69      0.99      0.81       163\n",
      "        NEG       1.00      0.11      0.19        38\n",
      "        POS       0.69      0.18      0.29        50\n",
      "\n",
      "avg / total       0.74      0.69      0.61       251\n",
      "\n"
     ]
    }
   ],
   "source": [
    "print(\"test Accuracy\",logit.score(X_test_tf,y_test))\n",
    "print(confusion_matrix(y_test,test_logit_preds))\n",
    "print(classification_report(y_test,test_logit_preds))"
   ]
  },
  {
   "cell_type": "code",
   "execution_count": 104,
   "metadata": {},
   "outputs": [
    {
     "name": "stdout",
     "output_type": "stream",
     "text": [
      "Train Accuracy 0.7666999002991027\n",
      "[[553  53  53   0]\n",
      " [ 45 101  16   0]\n",
      " [ 53  14 114   0]\n",
      " [  0   0   0   1]]\n"
     ]
    }
   ],
   "source": [
    "from sklearn.naive_bayes import GaussianNB\n",
    "from sklearn.metrics import confusion_matrix, classification_report\n",
    "\n",
    "NBclassifier = GaussianNB()\n",
    "NBclassifier.fit(X_train_tf_svd, y_train)\n",
    "\n",
    "## Predictions\n",
    "svd_train_nb_preds = NBclassifier.predict(X_train_tf_svd)\n",
    "svd_test_nb_preds = NBclassifier.predict(X_test_tf_svd)\n",
    "\n",
    "print(\"Train Accuracy\",NBclassifier.score(X_train_tf_svd,y_train))\n",
    "print(confusion_matrix(y_train,svd_train_nb_preds))\n",
    "#print(classification_report(y_train,svd_train_nb_preds))\n",
    "\n"
   ]
  },
  {
   "cell_type": "code",
   "execution_count": 105,
   "metadata": {},
   "outputs": [
    {
     "name": "stdout",
     "output_type": "stream",
     "text": [
      "val Accuracy 0.649402390438247\n",
      "[[141   7  15]\n",
      " [ 22  12   4]\n",
      " [ 36   4  10]]\n",
      "             precision    recall  f1-score   support\n",
      "\n",
      "       INFO       0.71      0.87      0.78       163\n",
      "        NEG       0.52      0.32      0.39        38\n",
      "        POS       0.34      0.20      0.25        50\n",
      "\n",
      "avg / total       0.61      0.65      0.62       251\n",
      "\n"
     ]
    }
   ],
   "source": [
    "print(\"val Accuracy\",NBclassifier.score(X_test_tf_svd,y_test))\n",
    "print(confusion_matrix(y_test,svd_test_nb_preds))\n",
    "print(classification_report(y_test,svd_test_nb_preds))\n"
   ]
  },
  {
   "cell_type": "code",
   "execution_count": 108,
   "metadata": {},
   "outputs": [
    {
     "name": "stdout",
     "output_type": "stream",
     "text": [
      "Train Accuracy 0.7318045862412762\n",
      "[[652   2   5   0]\n",
      " [139  20   3   0]\n",
      " [117   2  62   0]\n",
      " [  1   0   0   0]]\n"
     ]
    }
   ],
   "source": [
    "from sklearn.linear_model import LogisticRegression\n",
    "logit = LogisticRegression()\n",
    "logit.fit(X_train_tf_svd,y_train)\n",
    "\n",
    "## Predictions\n",
    "svdtrain_logit_preds = logit.predict(X_train_tf_svd)\n",
    "svdtest_logit_preds = logit.predict(X_test_tf_svd)\n",
    "\n",
    "print(\"Train Accuracy\",logit.score(X_train_tf_svd,y_train))\n",
    "print(confusion_matrix(y_train,svdtrain_logit_preds))\n",
    "#print(classification_report(y_train,svdtrain_logit_preds))\n",
    "\n"
   ]
  },
  {
   "cell_type": "code",
   "execution_count": 109,
   "metadata": {},
   "outputs": [
    {
     "name": "stdout",
     "output_type": "stream",
     "text": [
      "test Accuracy 0.6932270916334662\n",
      "[[161   0   2]\n",
      " [ 32   4   2]\n",
      " [ 41   0   9]]\n",
      "             precision    recall  f1-score   support\n",
      "\n",
      "       INFO       0.69      0.99      0.81       163\n",
      "        NEG       1.00      0.11      0.19        38\n",
      "        POS       0.69      0.18      0.29        50\n",
      "\n",
      "avg / total       0.74      0.69      0.61       251\n",
      "\n"
     ]
    }
   ],
   "source": [
    "print(\"test Accuracy\",logit.score(X_test_tf_svd,y_test))\n",
    "print(confusion_matrix(y_test,svdval_logit_preds))\n",
    "print(classification_report(y_test,svdtest_logit_preds))"
   ]
  }
 ],
 "metadata": {
  "kernelspec": {
   "display_name": "Python 3",
   "language": "python",
   "name": "python3"
  },
  "language_info": {
   "codemirror_mode": {
    "name": "ipython",
    "version": 3
   },
   "file_extension": ".py",
   "mimetype": "text/x-python",
   "name": "python",
   "nbconvert_exporter": "python",
   "pygments_lexer": "ipython3",
   "version": "3.6.5"
  }
 },
 "nbformat": 4,
 "nbformat_minor": 2
}
